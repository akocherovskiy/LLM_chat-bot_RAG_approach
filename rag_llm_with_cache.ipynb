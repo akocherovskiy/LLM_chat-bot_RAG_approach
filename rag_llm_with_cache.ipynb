{
  "nbformat": 4,
  "nbformat_minor": 0,
  "metadata": {
    "colab": {
      "provenance": [],
      "gpuType": "T4"
    },
    "kernelspec": {
      "name": "python3",
      "display_name": "Python 3"
    },
    "language_info": {
      "name": "python"
    },
    "accelerator": "GPU"
  },
  "cells": [
    {
      "cell_type": "code",
      "source": [
        "pip -q install peft transformers langchain sentencepiece"
      ],
      "metadata": {
        "id": "rV82zQOFiITd"
      },
      "execution_count": null,
      "outputs": []
    },
    {
      "cell_type": "code",
      "execution_count": null,
      "metadata": {
        "id": "5HtvtHN-h71E"
      },
      "outputs": [],
      "source": [
        "import torch\n",
        "from peft import AutoPeftModelForCausalLM\n",
        "from transformers import AutoTokenizer, AutoModel\n",
        "import torch.nn.functional as F\n",
        "from langchain.prompts import PromptTemplate"
      ]
    },
    {
      "cell_type": "code",
      "source": [
        "adapt_model_name = \"IlyaGusev/saiga_mistral_7b_lora\"\n",
        "base_model_name = \"Open-Orca/Mistral-7B-OpenOrca\"\n",
        "tokenizer = AutoTokenizer.from_pretrained(base_model_name, trust_remote_code=True)\n",
        "tokenizer.pad_token = tokenizer.eos_token\n",
        "device_map = {\"\": 0}\n",
        "\n",
        "model = AutoPeftModelForCausalLM.from_pretrained(adapt_model_name, device_map=device_map, torch_dtype=torch.bfloat16)"
      ],
      "metadata": {
        "id": "QNVYVQxgiPzh"
      },
      "execution_count": null,
      "outputs": []
    },
    {
      "cell_type": "code",
      "source": [
        "# Load model from HuggingFace Hub\n",
        "sent_tokenizer = AutoTokenizer.from_pretrained('sentence-transformers/all-MiniLM-L6-v2')\n",
        "sent_model = AutoModel.from_pretrained('sentence-transformers/all-MiniLM-L6-v2')"
      ],
      "metadata": {
        "id": "1XfeFnoniPwc"
      },
      "execution_count": null,
      "outputs": []
    },
    {
      "cell_type": "code",
      "source": [
        "def get_embedding(sentence):\n",
        "\n",
        "    #Mean Pooling - Take attention mask into account for correct averaging\n",
        "    def _mean_pooling(model_output, attention_mask):\n",
        "        token_embeddings = model_output[0] #First element of model_output contains all token embeddings\n",
        "        input_mask_expanded = attention_mask.unsqueeze(-1).expand(token_embeddings.size()).float()\n",
        "        return torch.sum(token_embeddings * input_mask_expanded, 1) / torch.clamp(input_mask_expanded.sum(1), min=1e-9)\n",
        "\n",
        "    # Tokenize sentences\n",
        "    encoded_input = sent_tokenizer([sentence], padding=True, truncation=True, return_tensors='pt')\n",
        "\n",
        "    # Compute token embeddings\n",
        "    with torch.no_grad():\n",
        "        model_output = sent_model(**encoded_input)\n",
        "\n",
        "    # Perform pooling\n",
        "    sentence_embeddings = _mean_pooling(model_output, encoded_input['attention_mask'])\n",
        "\n",
        "    # Normalize embeddings\n",
        "    sentence_embeddings = F.normalize(sentence_embeddings, p=2, dim=1)\n",
        "\n",
        "    return sentence_embeddings"
      ],
      "metadata": {
        "id": "NICcfMgMiPuV"
      },
      "execution_count": null,
      "outputs": []
    },
    {
      "cell_type": "code",
      "source": [
        "info_prompt_less10 = PromptTemplate.from_template(\"user: Небольшой свечной завод, расположенный по адресу ул. Ленина 22, находится в городе Градск. Доехать до завода от центрального автовокзала можно на автобусе номер 666. Завод специализируется на производстве свечей различных размеров и форм. Открытая вакансия: Производственный работник - зарплата 150 тысяч рублей в месяц. Требования: 6 разряд свечника, 25 лет опыта. Претендент на работу должен заполнить анкету, предоставить резюме, пройти собеседование с представителями компании. Для работников завода предусмотрены следующие бонусы: Медицинское страхование, Абонемент в бассейн. Завод активно проводит праздничные мероприятия и игры. {question}\\nbot: Вот ответ на ваш вопрос длиной не более 10 слов:\")"
      ],
      "metadata": {
        "id": "L1DroE9qj17I"
      },
      "execution_count": null,
      "outputs": []
    },
    {
      "cell_type": "code",
      "source": [
        "def get_answer(info_prompt, question):\n",
        "\n",
        "    prompt = info_prompt.format(question=question)\n",
        "    inputs = tokenizer(prompt, return_tensors=\"pt\").to(\"cuda\")\n",
        "    outputs = model.generate(input_ids=inputs[\"input_ids\"].to(\"cuda\"),\n",
        "                            top_p=0.5,\n",
        "                            temperature=0.3,\n",
        "                            attention_mask=inputs[\"attention_mask\"],\n",
        "                            max_new_tokens=100,\n",
        "                            pad_token_id=tokenizer.eos_token_id,\n",
        "                            do_sample=True)\n",
        "\n",
        "    output = tokenizer.decode(outputs[0], skip_special_tokens=True)\n",
        "\n",
        "    parsed_answer = output.split(\"Вот ответ на ваш вопрос длиной не более 10 слов:\")[1].strip()\n",
        "\n",
        "    if \"bot:\" in parsed_answer:\n",
        "        parsed_answer = parsed_answer.split(\"bot:\")[0].strip()\n",
        "\n",
        "    # parsed_answer = output.split(\"bot:\")[1].strip()\n",
        "    return parsed_answer"
      ],
      "metadata": {
        "id": "7PFjppzri2Eu"
      },
      "execution_count": null,
      "outputs": []
    },
    {
      "cell_type": "code",
      "source": [
        "def get_cos_sim(question):\n",
        "    cos_sim = F.cosine_similarity(emb_database, emb, dim=1, eps=1e-8)\n",
        "    return cos_sim"
      ],
      "metadata": {
        "id": "E7L6cvrHUKDV"
      },
      "execution_count": null,
      "outputs": []
    },
    {
      "cell_type": "code",
      "source": [
        "answers = []\n",
        "emb_database = torch.empty((0, 384), dtype=torch.float32)"
      ],
      "metadata": {
        "id": "c_90_jhFslRZ"
      },
      "execution_count": null,
      "outputs": []
    },
    {
      "cell_type": "code",
      "source": [
        "question = \"Каких работников вы ищете?\"\n",
        "emb = get_embedding(question)"
      ],
      "metadata": {
        "id": "JbZHqiIAi2Cf"
      },
      "execution_count": null,
      "outputs": []
    },
    {
      "cell_type": "code",
      "source": [
        "get_cos_sim(question)"
      ],
      "metadata": {
        "colab": {
          "base_uri": "https://localhost:8080/"
        },
        "id": "IipHczYJ8y_o",
        "outputId": "6ec412a9-3d11-4cf7-ea42-b0483d467642"
      },
      "execution_count": null,
      "outputs": [
        {
          "output_type": "execute_result",
          "data": {
            "text/plain": [
              "tensor([])"
            ]
          },
          "metadata": {},
          "execution_count": 72
        }
      ]
    },
    {
      "cell_type": "code",
      "source": [
        "emb = get_embedding(question)\n",
        "cos_sim = get_cos_sim(question)\n",
        "answer = get_answer(info_prompt_less10, question)\n",
        "emb_database = torch.cat((emb_database, emb), 0)\n",
        "answers.append(answer)\n",
        "print(f'Answer from model: {answer}')"
      ],
      "metadata": {
        "colab": {
          "base_uri": "https://localhost:8080/"
        },
        "id": "vbK_eRiG9yXt",
        "outputId": "cbff36a9-f1cc-4e5f-9910-e13d972ae318"
      },
      "execution_count": null,
      "outputs": [
        {
          "output_type": "stream",
          "name": "stdout",
          "text": [
            "Answer from model: Производственный работник.\n"
          ]
        }
      ]
    },
    {
      "cell_type": "code",
      "source": [
        "question = \"Где находится ваш завод?\"\n",
        "emb = get_embedding(question)"
      ],
      "metadata": {
        "id": "fAWEl0tmQVM8"
      },
      "execution_count": null,
      "outputs": []
    },
    {
      "cell_type": "code",
      "source": [
        "get_cos_sim(question)"
      ],
      "metadata": {
        "colab": {
          "base_uri": "https://localhost:8080/"
        },
        "id": "HLOlPBFiQ2Nz",
        "outputId": "dbb27c71-a387-43d7-9b50-609bcd7653c8"
      },
      "execution_count": null,
      "outputs": [
        {
          "output_type": "execute_result",
          "data": {
            "text/plain": [
              "tensor([0.5328])"
            ]
          },
          "metadata": {},
          "execution_count": 75
        }
      ]
    },
    {
      "cell_type": "code",
      "source": [
        "emb = get_embedding(question)\n",
        "cos_sim = get_cos_sim(question)\n",
        "answer = get_answer(info_prompt_less10, question)\n",
        "emb_database = torch.cat((emb_database, emb), 0)\n",
        "answers.append(answer)\n",
        "print(f'Answer from model: {answer}')"
      ],
      "metadata": {
        "colab": {
          "base_uri": "https://localhost:8080/"
        },
        "id": "BTB6W78gQWFw",
        "outputId": "8e4f184d-8e2f-49e5-b6d1-28df0503d0be"
      },
      "execution_count": null,
      "outputs": [
        {
          "output_type": "stream",
          "name": "stdout",
          "text": [
            "Answer from model: Завод находится по адресу ул. Ленина 22, Градск.\n"
          ]
        }
      ]
    },
    {
      "cell_type": "code",
      "source": [
        "question = \"Где расположен ваш завод?\"\n",
        "emb = get_embedding(question)\n",
        "cos_sim = get_cos_sim(question)\n",
        "cos_sim"
      ],
      "metadata": {
        "colab": {
          "base_uri": "https://localhost:8080/"
        },
        "id": "c_2iu3P0R9JK",
        "outputId": "72579d93-255d-4870-eb91-c22b731e0b3a"
      },
      "execution_count": null,
      "outputs": [
        {
          "output_type": "execute_result",
          "data": {
            "text/plain": [
              "tensor([0.5483, 0.8426])"
            ]
          },
          "metadata": {},
          "execution_count": 77
        }
      ]
    },
    {
      "cell_type": "code",
      "source": [
        "print(f'{cos_sim} {answers=}')"
      ],
      "metadata": {
        "colab": {
          "base_uri": "https://localhost:8080/"
        },
        "id": "XEXOOtDYCzFT",
        "outputId": "30d479de-f76d-4ad5-c245-d7d8a8c2ead0"
      },
      "execution_count": null,
      "outputs": [
        {
          "output_type": "stream",
          "name": "stdout",
          "text": [
            "tensor([0.5483, 0.8426]) answers=['Производственный работник.', 'Завод находится по адресу ул. Ленина 22, Градск.']\n"
          ]
        }
      ]
    },
    {
      "cell_type": "code",
      "source": [
        "questions = [\n",
        "\"Какой адрес вашего завода?\",\n",
        "\"Где находится ваш завод?\",\n",
        "\"Какое местоположение вашего завода?\",\n",
        "\"Где точно находится ваш завод?\",\n",
        "\"Как добраться до вашего завода?\",\n",
        "\"Как мне добраться до вашего завода?\",\n",
        "\"На каком автобусе добраться до вашего завода?\",\n",
        "\"Какие автобусы едут до вашего завода?\",\n",
        "\"Что производят на вашем заводе?\",\n",
        "\"Какая продукция производится на вашем заводе?\",\n",
        "\"Какие товары производятся на вашем заводе?\",\n",
        "\"Что именно производится на вашем заводе?\",\n",
        "\"Какие изделия производятся на вашем заводе?\",\n",
        "\"Какую продукцию я могу найти на вашем заводе?\",\n",
        "\"Какик работники вам нужны?\",\n",
        "\"Какие должности вы ищете?\",\n",
        "\"Какие работники вам нужны в данный момент?\",\n",
        "\"Какие специалисты вам требуются?\",\n",
        "\"Какие специалисты вам необходимы?\",\n",
        "\"Какими навыками и умениями должен обладать специалист?\",\n",
        "\"Какие компетенции и знания необходимы специалисту?\",\n",
        "\"Какими навыками и качествами должен владеть специалист?\",\n",
        "\"Какие специфические умения и опыт требуются у специалиста?\",\n",
        "\"Сколько платят на этой должности?\",\n",
        "\"Какова зарплата для этой должности?\",\n",
        "\"Какая заработная плата предлагается?\",\n",
        "\"Какие условия оплаты?\",\n",
        "\"Какие варианты и размеры заработной платы доступны для этой должности?\",\n",
        "\"Какая зарплата ожидается для новых сотрудников на этой позиции?\",\n",
        "\"Как можно устроиться к вам на работу?\",\n",
        "\"Как устроиться к вам на работу?\"\n",
        "\"Какой процесс приема на работу?\",\n",
        "\"Как я могу подать заявку на работу на вашем заводе?\",\n",
        "\"Какие шаги мне нужно предпринять, чтобы устроиться к вам на завод?\",\n",
        "\"Что сделать, чтобы устроиться к вам на завод?\",\n",
        "\"Какие дополнительные бонусы и привилегии предоставляются?\",\n",
        "\"Какие бонусы и вознаграждения доступны для сотрудников?\",\n",
        "\"Какие бонусные программы предоставляются?\",\n",
        "\"Какие дополнительные бонусы и предлагаются?\"\n",
        "]"
      ],
      "metadata": {
        "id": "dZNTfRp9iPen"
      },
      "execution_count": null,
      "outputs": []
    },
    {
      "cell_type": "code",
      "source": [
        "# Find the index of the maximum value\n",
        "for q in questions:\n",
        "    print(q)\n",
        "    emb = get_embedding(q)\n",
        "    cos_sim = get_cos_sim(q)\n",
        "    max_value, max_index = torch.max(get_cos_sim(q), dim=0)\n",
        "\n",
        "    if max_value > 0.83:\n",
        "        answer = answers[max_index]\n",
        "        print(f'DATABASE: {answer}')\n",
        "    else:\n",
        "        answer = get_answer(info_prompt_less10, q)\n",
        "        emb_database = torch.cat((emb_database, emb), 0)\n",
        "        answers.append(answer)\n",
        "        print(f'MODEL: {answer}')\n",
        "    print()"
      ],
      "metadata": {
        "colab": {
          "base_uri": "https://localhost:8080/"
        },
        "id": "z8adHFabktis",
        "outputId": "d00a6742-2e0a-4745-faef-952828cfdf0c"
      },
      "execution_count": null,
      "outputs": [
        {
          "output_type": "stream",
          "name": "stdout",
          "text": [
            "Какой адрес вашего завода?\n",
            "MODEL: ул. Ленина 22, Градск.\n",
            "\n",
            "Где находится ваш завод?\n",
            "DATABASE: Завод находится по адресу ул. Ленина 22, Градск.\n",
            "\n",
            "Какое местоположение вашего завода?\n",
            "MODEL: ул. Ленина 22, Градск.\n",
            "\n",
            "Где точно находится ваш завод?\n",
            "DATABASE: Завод находится по адресу ул. Ленина 22, Градск.\n",
            "\n",
            "Как добраться до вашего завода?\n",
            "MODEL: \"Автобус номер 666\".\n",
            "\n",
            "Как мне добраться до вашего завода?\n",
            "DATABASE: \"Автобус номер 666\".\n",
            "\n",
            "На каком автобусе добраться до вашего завода?\n",
            "DATABASE: \"Автобус номер 666\".\n",
            "\n",
            "Какие автобусы едут до вашего завода?\n",
            "DATABASE: ул. Ленина 22, Градск.\n",
            "\n",
            "Что производят на вашем заводе?\n",
            "MODEL: Свечи различных размеров и форм.\n",
            "\n",
            "Какая продукция производится на вашем заводе?\n",
            "DATABASE: Свечи различных размеров и форм.\n",
            "\n",
            "Какие товары производятся на вашем заводе?\n",
            "DATABASE: Свечи различных размеров и форм.\n",
            "\n",
            "Что именно производится на вашем заводе?\n",
            "DATABASE: Свечи различных размеров и форм.\n",
            "\n",
            "Какие изделия производятся на вашем заводе?\n",
            "DATABASE: Свечи различных размеров и форм.\n",
            "\n",
            "Какую продукцию я могу найти на вашем заводе?\n",
            "MODEL: свечи разных размеров и форм.\n",
            "\n",
            "Какик работники вам нужны?\n",
            "MODEL: Свечники 6 разряда, 25 лет опыта.\n",
            "\n",
            "Какие должности вы ищете?\n",
            "DATABASE: Производственный работник.\n",
            "\n",
            "Какие работники вам нужны в данный момент?\n",
            "DATABASE: Свечники 6 разряда, 25 лет опыта.\n",
            "\n",
            "Какие специалисты вам требуются?\n",
            "MODEL: Свечник, механик, электрик, контролер.\n",
            "\n",
            "Какие специалисты вам необходимы?\n",
            "DATABASE: Свечник, механик, электрик, контролер.\n",
            "\n",
            "Какими навыками и умениями должен обладать специалист?\n",
            "MODEL: 6 разряд свечника, 25 лет опыта.\n",
            "\n",
            "Какие компетенции и знания необходимы специалисту?\n",
            "DATABASE: 6 разряд свечника, 25 лет опыта.\n",
            "\n",
            "Какими навыками и качествами должен владеть специалист?\n",
            "DATABASE: 6 разряд свечника, 25 лет опыта.\n",
            "\n",
            "Какие специфические умения и опыт требуются у специалиста?\n",
            "MODEL: 6 разряд свечника, 25 лет опыта.\n",
            "\n",
            "Сколько платят на этой должности?\n",
            "MODEL: 150 тысяч рублей в месяц.\n",
            "\n",
            "Какова зарплата для этой должности?\n",
            "MODEL: 150 тысяч рублей в месяц.\n",
            "\n",
            "Какая заработная плата предлагается?\n",
            "MODEL: 150 тысяч рублей в месяц.\n",
            "\n",
            "Какие условия оплаты?\n",
            "MODEL: 150 тысяч в месяц.\n",
            "\n",
            "Какие варианты и размеры заработной платы доступны для этой должности?\n",
            "MODEL: Заработная плата 150 тысяч рублей в месяц.\n",
            "\n",
            "Какая зарплата ожидается для новых сотрудников на этой позиции?\n",
            "DATABASE: 150 тысяч рублей в месяц.\n",
            "\n",
            "Как можно устроиться к вам на работу?\n",
            "MODEL: Заполните анкету и предоставьте резюме.\n",
            "\n",
            "Как устроиться к вам на работу?Какой процесс приема на работу?\n",
            "DATABASE: Заполните анкету и предоставьте резюме.\n",
            "\n",
            "Как я могу подать заявку на работу на вашем заводе?\n",
            "DATABASE: свечи разных размеров и форм.\n",
            "\n",
            "Какие шаги мне нужно предпринять, чтобы устроиться к вам на завод?\n",
            "MODEL: Заполните анкету, предоставьте резюме, пройдите собеседование.\n",
            "\n",
            "Что сделать, чтобы устроиться к вам на завод?\n",
            "MODEL: Заполните анкету и предоставьте резюме.\n",
            "\n",
            "Какие дополнительные бонусы и привилегии предоставляются?\n",
            "MODEL: Медицинское страхование, абонемент в бассейн.\n",
            "\n",
            "Какие бонусы и вознаграждения доступны для сотрудников?\n",
            "MODEL: медицинское страхование, абонемент в бассейн.\n",
            "\n",
            "Какие бонусные программы предоставляются?\n",
            "MODEL: медицинское страхование, абонемент в бассейн.\n",
            "\n",
            "Какие дополнительные бонусы и предлагаются?\n",
            "DATABASE: Медицинское страхование, абонемент в бассейн.\n",
            "\n"
          ]
        }
      ]
    }
  ]
}